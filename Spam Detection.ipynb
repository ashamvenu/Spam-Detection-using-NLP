{
 "cells": [
  {
   "cell_type": "code",
   "execution_count": 1,
   "metadata": {},
   "outputs": [
    {
     "name": "stderr",
     "output_type": "stream",
     "text": [
      "[nltk_data] Downloading package punkt to\n",
      "[nltk_data]     C:\\Users\\AshaM\\AppData\\Roaming\\nltk_data...\n",
      "[nltk_data]   Package punkt is already up-to-date!\n"
     ]
    }
   ],
   "source": [
    "import numpy as np \n",
    "import pandas as pd \n",
    "import nltk\n",
    "from nltk.corpus import stopwords\n",
    "import string\n",
    "nltk.download('punkt')\n",
    "import csv"
   ]
  },
  {
   "cell_type": "code",
   "execution_count": 2,
   "metadata": {},
   "outputs": [
    {
     "data": {
      "text/html": [
       "<div>\n",
       "<style scoped>\n",
       "    .dataframe tbody tr th:only-of-type {\n",
       "        vertical-align: middle;\n",
       "    }\n",
       "\n",
       "    .dataframe tbody tr th {\n",
       "        vertical-align: top;\n",
       "    }\n",
       "\n",
       "    .dataframe thead th {\n",
       "        text-align: right;\n",
       "    }\n",
       "</style>\n",
       "<table border=\"1\" class=\"dataframe\">\n",
       "  <thead>\n",
       "    <tr style=\"text-align: right;\">\n",
       "      <th></th>\n",
       "      <th>Id</th>\n",
       "      <th>Tweet</th>\n",
       "      <th>following</th>\n",
       "      <th>followers</th>\n",
       "      <th>actions</th>\n",
       "      <th>is_retweet</th>\n",
       "      <th>location</th>\n",
       "      <th>Type</th>\n",
       "    </tr>\n",
       "  </thead>\n",
       "  <tbody>\n",
       "    <tr>\n",
       "      <th>0</th>\n",
       "      <td>10091</td>\n",
       "      <td>It's the everything else that's complicated. #...</td>\n",
       "      <td>0.0</td>\n",
       "      <td>11500.0</td>\n",
       "      <td>NaN</td>\n",
       "      <td>0.0</td>\n",
       "      <td>Chicago</td>\n",
       "      <td>Quality</td>\n",
       "    </tr>\n",
       "    <tr>\n",
       "      <th>1</th>\n",
       "      <td>10172</td>\n",
       "      <td>Eren sent a glare towards Mikasa then nodded a...</td>\n",
       "      <td>0.0</td>\n",
       "      <td>0.0</td>\n",
       "      <td>NaN</td>\n",
       "      <td>0.0</td>\n",
       "      <td>NaN</td>\n",
       "      <td>Quality</td>\n",
       "    </tr>\n",
       "    <tr>\n",
       "      <th>2</th>\n",
       "      <td>7012</td>\n",
       "      <td>I posted a new photo to Facebook http://fb.me/...</td>\n",
       "      <td>0.0</td>\n",
       "      <td>0.0</td>\n",
       "      <td>NaN</td>\n",
       "      <td>0.0</td>\n",
       "      <td>Scotland, U.K</td>\n",
       "      <td>Quality</td>\n",
       "    </tr>\n",
       "    <tr>\n",
       "      <th>3</th>\n",
       "      <td>3697</td>\n",
       "      <td>#jan Idiot Chelsea Handler Diagnoses Trump Wit...</td>\n",
       "      <td>3319.0</td>\n",
       "      <td>611.0</td>\n",
       "      <td>294.0</td>\n",
       "      <td>0.0</td>\n",
       "      <td>Atlanta, Ga</td>\n",
       "      <td>Spam</td>\n",
       "    </tr>\n",
       "    <tr>\n",
       "      <th>4</th>\n",
       "      <td>10740</td>\n",
       "      <td>Pedophile Anthony Weiner is TERRIFIED of Getti...</td>\n",
       "      <td>4840.0</td>\n",
       "      <td>1724.0</td>\n",
       "      <td>1522.0</td>\n",
       "      <td>0.0</td>\n",
       "      <td>Blumberg</td>\n",
       "      <td>Spam</td>\n",
       "    </tr>\n",
       "  </tbody>\n",
       "</table>\n",
       "</div>"
      ],
      "text/plain": [
       "      Id                                              Tweet  following  \\\n",
       "0  10091  It's the everything else that's complicated. #...        0.0   \n",
       "1  10172  Eren sent a glare towards Mikasa then nodded a...        0.0   \n",
       "2   7012  I posted a new photo to Facebook http://fb.me/...        0.0   \n",
       "3   3697  #jan Idiot Chelsea Handler Diagnoses Trump Wit...     3319.0   \n",
       "4  10740  Pedophile Anthony Weiner is TERRIFIED of Getti...     4840.0   \n",
       "\n",
       "   followers  actions  is_retweet       location     Type  \n",
       "0    11500.0      NaN         0.0        Chicago  Quality  \n",
       "1        0.0      NaN         0.0            NaN  Quality  \n",
       "2        0.0      NaN         0.0  Scotland, U.K  Quality  \n",
       "3      611.0    294.0         0.0    Atlanta, Ga     Spam  \n",
       "4     1724.0   1522.0         0.0       Blumberg     Spam  "
      ]
     },
     "execution_count": 2,
     "metadata": {},
     "output_type": "execute_result"
    }
   ],
   "source": [
    "## Reading the dataset as a csv file\n",
    "training_dataset = pd.read_csv(\"train.csv\", encoding=\"ISO-8859-1\")\n",
    "training_dataset.head()"
   ]
  },
  {
   "cell_type": "code",
   "execution_count": 3,
   "metadata": {},
   "outputs": [
    {
     "data": {
      "text/html": [
       "<div>\n",
       "<style scoped>\n",
       "    .dataframe tbody tr th:only-of-type {\n",
       "        vertical-align: middle;\n",
       "    }\n",
       "\n",
       "    .dataframe tbody tr th {\n",
       "        vertical-align: top;\n",
       "    }\n",
       "\n",
       "    .dataframe thead th {\n",
       "        text-align: right;\n",
       "    }\n",
       "</style>\n",
       "<table border=\"1\" class=\"dataframe\">\n",
       "  <thead>\n",
       "    <tr style=\"text-align: right;\">\n",
       "      <th></th>\n",
       "      <th>Id</th>\n",
       "      <th>Tweet</th>\n",
       "      <th>following</th>\n",
       "      <th>followers</th>\n",
       "      <th>is_retweet</th>\n",
       "      <th>Type</th>\n",
       "    </tr>\n",
       "  </thead>\n",
       "  <tbody>\n",
       "    <tr>\n",
       "      <th>0</th>\n",
       "      <td>10091</td>\n",
       "      <td>It's the everything else that's complicated. #...</td>\n",
       "      <td>0.0</td>\n",
       "      <td>11500.0</td>\n",
       "      <td>0.0</td>\n",
       "      <td>Quality</td>\n",
       "    </tr>\n",
       "    <tr>\n",
       "      <th>1</th>\n",
       "      <td>10172</td>\n",
       "      <td>Eren sent a glare towards Mikasa then nodded a...</td>\n",
       "      <td>0.0</td>\n",
       "      <td>0.0</td>\n",
       "      <td>0.0</td>\n",
       "      <td>Quality</td>\n",
       "    </tr>\n",
       "    <tr>\n",
       "      <th>2</th>\n",
       "      <td>7012</td>\n",
       "      <td>I posted a new photo to Facebook http://fb.me/...</td>\n",
       "      <td>0.0</td>\n",
       "      <td>0.0</td>\n",
       "      <td>0.0</td>\n",
       "      <td>Quality</td>\n",
       "    </tr>\n",
       "    <tr>\n",
       "      <th>3</th>\n",
       "      <td>3697</td>\n",
       "      <td>#jan Idiot Chelsea Handler Diagnoses Trump Wit...</td>\n",
       "      <td>3319.0</td>\n",
       "      <td>611.0</td>\n",
       "      <td>0.0</td>\n",
       "      <td>Spam</td>\n",
       "    </tr>\n",
       "    <tr>\n",
       "      <th>4</th>\n",
       "      <td>10740</td>\n",
       "      <td>Pedophile Anthony Weiner is TERRIFIED of Getti...</td>\n",
       "      <td>4840.0</td>\n",
       "      <td>1724.0</td>\n",
       "      <td>0.0</td>\n",
       "      <td>Spam</td>\n",
       "    </tr>\n",
       "  </tbody>\n",
       "</table>\n",
       "</div>"
      ],
      "text/plain": [
       "      Id                                              Tweet  following  \\\n",
       "0  10091  It's the everything else that's complicated. #...        0.0   \n",
       "1  10172  Eren sent a glare towards Mikasa then nodded a...        0.0   \n",
       "2   7012  I posted a new photo to Facebook http://fb.me/...        0.0   \n",
       "3   3697  #jan Idiot Chelsea Handler Diagnoses Trump Wit...     3319.0   \n",
       "4  10740  Pedophile Anthony Weiner is TERRIFIED of Getti...     4840.0   \n",
       "\n",
       "   followers  is_retweet     Type  \n",
       "0    11500.0         0.0  Quality  \n",
       "1        0.0         0.0  Quality  \n",
       "2        0.0         0.0  Quality  \n",
       "3      611.0         0.0     Spam  \n",
       "4     1724.0         0.0     Spam  "
      ]
     },
     "execution_count": 3,
     "metadata": {},
     "output_type": "execute_result"
    }
   ],
   "source": [
    "new_data = training_dataset.rename(columns = {\"Label\": \"Type\"})\n",
    "del new_data['actions']\n",
    "del new_data['location']\n",
    "new_data.head()"
   ]
  },
  {
   "cell_type": "code",
   "execution_count": 4,
   "metadata": {},
   "outputs": [
    {
     "data": {
      "text/html": [
       "<div>\n",
       "<style scoped>\n",
       "    .dataframe tbody tr th:only-of-type {\n",
       "        vertical-align: middle;\n",
       "    }\n",
       "\n",
       "    .dataframe tbody tr th {\n",
       "        vertical-align: top;\n",
       "    }\n",
       "\n",
       "    .dataframe thead th {\n",
       "        text-align: right;\n",
       "    }\n",
       "</style>\n",
       "<table border=\"1\" class=\"dataframe\">\n",
       "  <thead>\n",
       "    <tr style=\"text-align: right;\">\n",
       "      <th></th>\n",
       "      <th>Id</th>\n",
       "      <th>Tweet</th>\n",
       "      <th>following</th>\n",
       "      <th>followers</th>\n",
       "      <th>is_retweet</th>\n",
       "      <th>Type</th>\n",
       "      <th>Label</th>\n",
       "    </tr>\n",
       "  </thead>\n",
       "  <tbody>\n",
       "    <tr>\n",
       "      <th>0</th>\n",
       "      <td>10091</td>\n",
       "      <td>It's the everything else that's complicated. #...</td>\n",
       "      <td>0.0</td>\n",
       "      <td>11500.0</td>\n",
       "      <td>0.0</td>\n",
       "      <td>Quality</td>\n",
       "      <td>0</td>\n",
       "    </tr>\n",
       "    <tr>\n",
       "      <th>1</th>\n",
       "      <td>10172</td>\n",
       "      <td>Eren sent a glare towards Mikasa then nodded a...</td>\n",
       "      <td>0.0</td>\n",
       "      <td>0.0</td>\n",
       "      <td>0.0</td>\n",
       "      <td>Quality</td>\n",
       "      <td>0</td>\n",
       "    </tr>\n",
       "    <tr>\n",
       "      <th>2</th>\n",
       "      <td>7012</td>\n",
       "      <td>I posted a new photo to Facebook http://fb.me/...</td>\n",
       "      <td>0.0</td>\n",
       "      <td>0.0</td>\n",
       "      <td>0.0</td>\n",
       "      <td>Quality</td>\n",
       "      <td>0</td>\n",
       "    </tr>\n",
       "    <tr>\n",
       "      <th>3</th>\n",
       "      <td>3697</td>\n",
       "      <td>#jan Idiot Chelsea Handler Diagnoses Trump Wit...</td>\n",
       "      <td>3319.0</td>\n",
       "      <td>611.0</td>\n",
       "      <td>0.0</td>\n",
       "      <td>Spam</td>\n",
       "      <td>1</td>\n",
       "    </tr>\n",
       "    <tr>\n",
       "      <th>4</th>\n",
       "      <td>10740</td>\n",
       "      <td>Pedophile Anthony Weiner is TERRIFIED of Getti...</td>\n",
       "      <td>4840.0</td>\n",
       "      <td>1724.0</td>\n",
       "      <td>0.0</td>\n",
       "      <td>Spam</td>\n",
       "      <td>1</td>\n",
       "    </tr>\n",
       "  </tbody>\n",
       "</table>\n",
       "</div>"
      ],
      "text/plain": [
       "      Id                                              Tweet  following  \\\n",
       "0  10091  It's the everything else that's complicated. #...        0.0   \n",
       "1  10172  Eren sent a glare towards Mikasa then nodded a...        0.0   \n",
       "2   7012  I posted a new photo to Facebook http://fb.me/...        0.0   \n",
       "3   3697  #jan Idiot Chelsea Handler Diagnoses Trump Wit...     3319.0   \n",
       "4  10740  Pedophile Anthony Weiner is TERRIFIED of Getti...     4840.0   \n",
       "\n",
       "   followers  is_retweet     Type  Label  \n",
       "0    11500.0         0.0  Quality      0  \n",
       "1        0.0         0.0  Quality      0  \n",
       "2        0.0         0.0  Quality      0  \n",
       "3      611.0         0.0     Spam      1  \n",
       "4     1724.0         0.0     Spam      1  "
      ]
     },
     "execution_count": 4,
     "metadata": {},
     "output_type": "execute_result"
    }
   ],
   "source": [
    "## Adding a new column to contain target variable\n",
    "new_data[\"Label\"] = [0 if x==\"Quality\" else 1 for x in new_data[\"Type\"] ]\n",
    "new_data.head()"
   ]
  },
  {
   "cell_type": "code",
   "execution_count": 5,
   "metadata": {},
   "outputs": [
    {
     "data": {
      "text/html": [
       "<div>\n",
       "<style scoped>\n",
       "    .dataframe tbody tr th:only-of-type {\n",
       "        vertical-align: middle;\n",
       "    }\n",
       "\n",
       "    .dataframe tbody tr th {\n",
       "        vertical-align: top;\n",
       "    }\n",
       "\n",
       "    .dataframe thead th {\n",
       "        text-align: right;\n",
       "    }\n",
       "</style>\n",
       "<table border=\"1\" class=\"dataframe\">\n",
       "  <thead>\n",
       "    <tr style=\"text-align: right;\">\n",
       "      <th></th>\n",
       "      <th>Id</th>\n",
       "      <th>Tweet</th>\n",
       "      <th>following</th>\n",
       "      <th>followers</th>\n",
       "      <th>is_retweet</th>\n",
       "      <th>Type</th>\n",
       "      <th>Label</th>\n",
       "    </tr>\n",
       "  </thead>\n",
       "  <tbody>\n",
       "    <tr>\n",
       "      <th>0</th>\n",
       "      <td>10091</td>\n",
       "      <td>It's the everything else that's complicated. #...</td>\n",
       "      <td>0.0</td>\n",
       "      <td>11500.0</td>\n",
       "      <td>0.0</td>\n",
       "      <td>Quality</td>\n",
       "      <td>0</td>\n",
       "    </tr>\n",
       "    <tr>\n",
       "      <th>1</th>\n",
       "      <td>10172</td>\n",
       "      <td>Eren sent a glare towards Mikasa then nodded a...</td>\n",
       "      <td>0.0</td>\n",
       "      <td>0.0</td>\n",
       "      <td>0.0</td>\n",
       "      <td>Quality</td>\n",
       "      <td>0</td>\n",
       "    </tr>\n",
       "    <tr>\n",
       "      <th>2</th>\n",
       "      <td>7012</td>\n",
       "      <td>I posted a new photo to Facebook http://fb.me/...</td>\n",
       "      <td>0.0</td>\n",
       "      <td>0.0</td>\n",
       "      <td>0.0</td>\n",
       "      <td>Quality</td>\n",
       "      <td>0</td>\n",
       "    </tr>\n",
       "    <tr>\n",
       "      <th>3</th>\n",
       "      <td>3697</td>\n",
       "      <td>#jan Idiot Chelsea Handler Diagnoses Trump Wit...</td>\n",
       "      <td>3319.0</td>\n",
       "      <td>611.0</td>\n",
       "      <td>0.0</td>\n",
       "      <td>Spam</td>\n",
       "      <td>1</td>\n",
       "    </tr>\n",
       "    <tr>\n",
       "      <th>4</th>\n",
       "      <td>10740</td>\n",
       "      <td>Pedophile Anthony Weiner is TERRIFIED of Getti...</td>\n",
       "      <td>4840.0</td>\n",
       "      <td>1724.0</td>\n",
       "      <td>0.0</td>\n",
       "      <td>Spam</td>\n",
       "      <td>1</td>\n",
       "    </tr>\n",
       "  </tbody>\n",
       "</table>\n",
       "</div>"
      ],
      "text/plain": [
       "      Id                                              Tweet  following  \\\n",
       "0  10091  It's the everything else that's complicated. #...        0.0   \n",
       "1  10172  Eren sent a glare towards Mikasa then nodded a...        0.0   \n",
       "2   7012  I posted a new photo to Facebook http://fb.me/...        0.0   \n",
       "3   3697  #jan Idiot Chelsea Handler Diagnoses Trump Wit...     3319.0   \n",
       "4  10740  Pedophile Anthony Weiner is TERRIFIED of Getti...     4840.0   \n",
       "\n",
       "   followers  is_retweet     Type  Label  \n",
       "0    11500.0         0.0  Quality      0  \n",
       "1        0.0         0.0  Quality      0  \n",
       "2        0.0         0.0  Quality      0  \n",
       "3      611.0         0.0     Spam      1  \n",
       "4     1724.0         0.0     Spam      1  "
      ]
     },
     "execution_count": 5,
     "metadata": {},
     "output_type": "execute_result"
    }
   ],
   "source": [
    "df = pd.DataFrame(new_data)\n",
    "df.head()"
   ]
  },
  {
   "cell_type": "code",
   "execution_count": 6,
   "metadata": {},
   "outputs": [],
   "source": [
    "df.to_csv('New_Train.csv', index=False)"
   ]
  },
  {
   "cell_type": "code",
   "execution_count": 7,
   "metadata": {},
   "outputs": [
    {
     "data": {
      "text/html": [
       "<div>\n",
       "<style scoped>\n",
       "    .dataframe tbody tr th:only-of-type {\n",
       "        vertical-align: middle;\n",
       "    }\n",
       "\n",
       "    .dataframe tbody tr th {\n",
       "        vertical-align: top;\n",
       "    }\n",
       "\n",
       "    .dataframe thead th {\n",
       "        text-align: right;\n",
       "    }\n",
       "</style>\n",
       "<table border=\"1\" class=\"dataframe\">\n",
       "  <thead>\n",
       "    <tr style=\"text-align: right;\">\n",
       "      <th></th>\n",
       "      <th>Id</th>\n",
       "      <th>Tweet</th>\n",
       "      <th>following</th>\n",
       "      <th>followers</th>\n",
       "      <th>is_retweet</th>\n",
       "      <th>Type</th>\n",
       "      <th>Label</th>\n",
       "    </tr>\n",
       "  </thead>\n",
       "  <tbody>\n",
       "    <tr>\n",
       "      <th>0</th>\n",
       "      <td>10091</td>\n",
       "      <td>It's the everything else that's complicated. #...</td>\n",
       "      <td>0.0</td>\n",
       "      <td>11500.0</td>\n",
       "      <td>0.0</td>\n",
       "      <td>Quality</td>\n",
       "      <td>0</td>\n",
       "    </tr>\n",
       "    <tr>\n",
       "      <th>1</th>\n",
       "      <td>10172</td>\n",
       "      <td>Eren sent a glare towards Mikasa then nodded a...</td>\n",
       "      <td>0.0</td>\n",
       "      <td>0.0</td>\n",
       "      <td>0.0</td>\n",
       "      <td>Quality</td>\n",
       "      <td>0</td>\n",
       "    </tr>\n",
       "    <tr>\n",
       "      <th>2</th>\n",
       "      <td>7012</td>\n",
       "      <td>I posted a new photo to Facebook http://fb.me/...</td>\n",
       "      <td>0.0</td>\n",
       "      <td>0.0</td>\n",
       "      <td>0.0</td>\n",
       "      <td>Quality</td>\n",
       "      <td>0</td>\n",
       "    </tr>\n",
       "    <tr>\n",
       "      <th>3</th>\n",
       "      <td>3697</td>\n",
       "      <td>#jan Idiot Chelsea Handler Diagnoses Trump Wit...</td>\n",
       "      <td>3319.0</td>\n",
       "      <td>611.0</td>\n",
       "      <td>0.0</td>\n",
       "      <td>Spam</td>\n",
       "      <td>1</td>\n",
       "    </tr>\n",
       "    <tr>\n",
       "      <th>4</th>\n",
       "      <td>10740</td>\n",
       "      <td>Pedophile Anthony Weiner is TERRIFIED of Getti...</td>\n",
       "      <td>4840.0</td>\n",
       "      <td>1724.0</td>\n",
       "      <td>0.0</td>\n",
       "      <td>Spam</td>\n",
       "      <td>1</td>\n",
       "    </tr>\n",
       "  </tbody>\n",
       "</table>\n",
       "</div>"
      ],
      "text/plain": [
       "      Id                                              Tweet  following  \\\n",
       "0  10091  It's the everything else that's complicated. #...        0.0   \n",
       "1  10172  Eren sent a glare towards Mikasa then nodded a...        0.0   \n",
       "2   7012  I posted a new photo to Facebook http://fb.me/...        0.0   \n",
       "3   3697  #jan Idiot Chelsea Handler Diagnoses Trump Wit...     3319.0   \n",
       "4  10740  Pedophile Anthony Weiner is TERRIFIED of Getti...     4840.0   \n",
       "\n",
       "   followers  is_retweet     Type  Label  \n",
       "0    11500.0         0.0  Quality      0  \n",
       "1        0.0         0.0  Quality      0  \n",
       "2        0.0         0.0  Quality      0  \n",
       "3      611.0         0.0     Spam      1  \n",
       "4     1724.0         0.0     Spam      1  "
      ]
     },
     "execution_count": 7,
     "metadata": {},
     "output_type": "execute_result"
    }
   ],
   "source": [
    "df = pd.read_csv('New_Train.csv')\n",
    "df.head()"
   ]
  },
  {
   "cell_type": "code",
   "execution_count": 8,
   "metadata": {},
   "outputs": [
    {
     "data": {
      "text/plain": [
       "(11968, 7)"
      ]
     },
     "execution_count": 8,
     "metadata": {},
     "output_type": "execute_result"
    }
   ],
   "source": [
    "df.shape"
   ]
  },
  {
   "cell_type": "code",
   "execution_count": 9,
   "metadata": {},
   "outputs": [
    {
     "data": {
      "text/plain": [
       "Index(['Id', 'Tweet', 'following', 'followers', 'is_retweet', 'Type', 'Label'], dtype='object')"
      ]
     },
     "execution_count": 9,
     "metadata": {},
     "output_type": "execute_result"
    }
   ],
   "source": [
    "df.columns"
   ]
  },
  {
   "cell_type": "code",
   "execution_count": 10,
   "metadata": {},
   "outputs": [],
   "source": [
    "df.drop_duplicates(inplace = True)"
   ]
  },
  {
   "cell_type": "code",
   "execution_count": 11,
   "metadata": {},
   "outputs": [
    {
     "data": {
      "text/plain": [
       "(11968, 7)"
      ]
     },
     "execution_count": 11,
     "metadata": {},
     "output_type": "execute_result"
    }
   ],
   "source": [
    "df.shape"
   ]
  },
  {
   "cell_type": "code",
   "execution_count": 12,
   "metadata": {},
   "outputs": [
    {
     "data": {
      "text/plain": [
       "Id              0\n",
       "Tweet           0\n",
       "following     145\n",
       "followers      16\n",
       "is_retweet      1\n",
       "Type            0\n",
       "Label           0\n",
       "dtype: int64"
      ]
     },
     "execution_count": 12,
     "metadata": {},
     "output_type": "execute_result"
    }
   ],
   "source": [
    "df.isnull().sum()"
   ]
  },
  {
   "cell_type": "code",
   "execution_count": 13,
   "metadata": {},
   "outputs": [],
   "source": [
    "del df['Id']"
   ]
  },
  {
   "cell_type": "code",
   "execution_count": 14,
   "metadata": {},
   "outputs": [],
   "source": [
    "del df['following']"
   ]
  },
  {
   "cell_type": "code",
   "execution_count": 15,
   "metadata": {},
   "outputs": [],
   "source": [
    "del df['followers']"
   ]
  },
  {
   "cell_type": "code",
   "execution_count": 16,
   "metadata": {},
   "outputs": [],
   "source": [
    "del df['is_retweet']"
   ]
  },
  {
   "cell_type": "code",
   "execution_count": 17,
   "metadata": {},
   "outputs": [],
   "source": [
    "del df['Type']"
   ]
  },
  {
   "cell_type": "code",
   "execution_count": 18,
   "metadata": {},
   "outputs": [
    {
     "data": {
      "text/html": [
       "<div>\n",
       "<style scoped>\n",
       "    .dataframe tbody tr th:only-of-type {\n",
       "        vertical-align: middle;\n",
       "    }\n",
       "\n",
       "    .dataframe tbody tr th {\n",
       "        vertical-align: top;\n",
       "    }\n",
       "\n",
       "    .dataframe thead th {\n",
       "        text-align: right;\n",
       "    }\n",
       "</style>\n",
       "<table border=\"1\" class=\"dataframe\">\n",
       "  <thead>\n",
       "    <tr style=\"text-align: right;\">\n",
       "      <th></th>\n",
       "      <th>Tweet</th>\n",
       "      <th>Label</th>\n",
       "    </tr>\n",
       "  </thead>\n",
       "  <tbody>\n",
       "    <tr>\n",
       "      <th>0</th>\n",
       "      <td>It's the everything else that's complicated. #...</td>\n",
       "      <td>0</td>\n",
       "    </tr>\n",
       "    <tr>\n",
       "      <th>1</th>\n",
       "      <td>Eren sent a glare towards Mikasa then nodded a...</td>\n",
       "      <td>0</td>\n",
       "    </tr>\n",
       "    <tr>\n",
       "      <th>2</th>\n",
       "      <td>I posted a new photo to Facebook http://fb.me/...</td>\n",
       "      <td>0</td>\n",
       "    </tr>\n",
       "    <tr>\n",
       "      <th>3</th>\n",
       "      <td>#jan Idiot Chelsea Handler Diagnoses Trump Wit...</td>\n",
       "      <td>1</td>\n",
       "    </tr>\n",
       "    <tr>\n",
       "      <th>4</th>\n",
       "      <td>Pedophile Anthony Weiner is TERRIFIED of Getti...</td>\n",
       "      <td>1</td>\n",
       "    </tr>\n",
       "  </tbody>\n",
       "</table>\n",
       "</div>"
      ],
      "text/plain": [
       "                                               Tweet  Label\n",
       "0  It's the everything else that's complicated. #...      0\n",
       "1  Eren sent a glare towards Mikasa then nodded a...      0\n",
       "2  I posted a new photo to Facebook http://fb.me/...      0\n",
       "3  #jan Idiot Chelsea Handler Diagnoses Trump Wit...      1\n",
       "4  Pedophile Anthony Weiner is TERRIFIED of Getti...      1"
      ]
     },
     "execution_count": 18,
     "metadata": {},
     "output_type": "execute_result"
    }
   ],
   "source": [
    "df.head()"
   ]
  },
  {
   "cell_type": "code",
   "execution_count": 19,
   "metadata": {},
   "outputs": [
    {
     "data": {
      "text/plain": [
       "(11968, 2)"
      ]
     },
     "execution_count": 19,
     "metadata": {},
     "output_type": "execute_result"
    }
   ],
   "source": [
    "df.shape"
   ]
  },
  {
   "cell_type": "code",
   "execution_count": 24,
   "metadata": {},
   "outputs": [
    {
     "data": {
      "text/plain": [
       "0    6153\n",
       "1    5815\n",
       "Name: Label, dtype: int64"
      ]
     },
     "execution_count": 24,
     "metadata": {},
     "output_type": "execute_result"
    }
   ],
   "source": [
    "df.Label.value_counts()"
   ]
  },
  {
   "cell_type": "code",
   "execution_count": 20,
   "metadata": {},
   "outputs": [
    {
     "name": "stderr",
     "output_type": "stream",
     "text": [
      "[nltk_data] Downloading package stopwords to\n",
      "[nltk_data]     C:\\Users\\AshaM\\AppData\\Roaming\\nltk_data...\n",
      "[nltk_data]   Package stopwords is already up-to-date!\n"
     ]
    },
    {
     "data": {
      "text/plain": [
       "True"
      ]
     },
     "execution_count": 20,
     "metadata": {},
     "output_type": "execute_result"
    }
   ],
   "source": [
    "nltk.download('stopwords')"
   ]
  },
  {
   "cell_type": "code",
   "execution_count": 21,
   "metadata": {},
   "outputs": [],
   "source": [
    "def processtweet(tweet):\n",
    "    '''\n",
    "    What will be covered:\n",
    "    1. Remove punctuation\n",
    "    2. Remove stopwords\n",
    "    3. Return list of clean text words\n",
    "    '''\n",
    "    \n",
    "    #1\n",
    "    remove_punctuation = [char for char in tweet if char not in string.punctuation]\n",
    "    remove_punctuation = ''.join(remove_punctuation)\n",
    "    \n",
    "    #2\n",
    "    clean_text = [word for word in remove_punctuation.split() if word.lower() not in stopwords.words('english')]\n",
    "    \n",
    "    #3\n",
    "    return clean_text"
   ]
  },
  {
   "cell_type": "code",
   "execution_count": 22,
   "metadata": {},
   "outputs": [
    {
     "data": {
      "text/plain": [
       "'def getFeatureVector(tweet):\\n    featureVector = []\\n    #split tweet into words\\n    words = tweet.split()\\n    #print words\\n    for w in words:\\n    \\n        #replace two or more with two occurrences\\n        w = replaceTwoOrMore(w)\\n        #strip punctuation\\n        w = w.strip(\\'\\'\"?,.\\')\\n        #check if the word starts with an alphabet\\n        val = re.search(r\"^[a-zA-Z][a-zA-Z0-9]*$\", w)\\n        #ignore if it is a stop word\\n        if(w not in stopWords ) and val:\\n            featureVector.append(w.lower())\\n    return featureVector'"
      ]
     },
     "execution_count": 22,
     "metadata": {},
     "output_type": "execute_result"
    }
   ],
   "source": [
    "'''import re\n",
    "\n",
    "def processTweet(tweet):\n",
    "    # process the tweets\n",
    "\n",
    "    #Convert to lower case\n",
    "    tweet = tweet.lower()\n",
    "    #Convert www.* or https?://* to URL\n",
    "    tweet = re.sub(r'http\\S+', '', tweet.lower())\n",
    "    #Convert @username to USER\n",
    "    tweet = re.sub('@[^\\s]+','user',tweet)\n",
    "    #Remove additional white spaces\n",
    "    tweet = re.sub('[\\s]+', ' ', tweet)\n",
    "    #Replace #word with word\n",
    "    tweet = re.sub(r'#([^\\s]+)', 'hashtag', tweet)\n",
    "    #trim\n",
    "    tweet = tweet.strip('\\'\"')\n",
    "    return tweet\n",
    "\n",
    "processedtweets=[]       \n",
    "for tweet in tweets:'''\n",
    "'''#processedTweet = processTweet(tweet)\n",
    "    processedtweets.append(processTweet(tweet))\n",
    "#print processedtweets'''\n",
    "        \n",
    "'''stopWords = []\n",
    "def replaceTwoOrMore(s):\n",
    "    #look for 2 or more repetitions of character and replace with the character itself\n",
    "    pattern = re.compile(r\"(.)\\1{1,}\", re.DOTALL)\n",
    "    return pattern.sub(r\"\\1\\1\", s)\n",
    "\n",
    "stopWords = []\n",
    "stopWords.append('user')\n",
    "stopWords.append('hashtag')''''''\n",
    "#print stopWords\n",
    "\n",
    "fp = open(stopWordListFileName, 'r')\n",
    "    line = fp.readline()\n",
    "    while line:\n",
    "        word = line.strip()\n",
    "        stopWords.append(word)\n",
    "        line = fp.readline()\n",
    "    fp.close()\n",
    "    return stopWords    \n",
    "     '''\n",
    "\n",
    "'''def getFeatureVector(tweet):\n",
    "    featureVector = []\n",
    "    #split tweet into words\n",
    "    words = tweet.split()\n",
    "    #print words\n",
    "    for w in words:\n",
    "    \n",
    "        #replace two or more with two occurrences\n",
    "        w = replaceTwoOrMore(w)\n",
    "        #strip punctuation\n",
    "        w = w.strip('\\'\"?,.')\n",
    "        #check if the word starts with an alphabet\n",
    "        val = re.search(r\"^[a-zA-Z][a-zA-Z0-9]*$\", w)\n",
    "        #ignore if it is a stop word\n",
    "        if(w not in stopWords ) and val:\n",
    "            featureVector.append(w.lower())\n",
    "    return featureVector'''\n"
   ]
  },
  {
   "cell_type": "code",
   "execution_count": 23,
   "metadata": {},
   "outputs": [
    {
     "data": {
      "text/plain": [
       "0    [everything, else, thats, complicated, PESummi...\n",
       "1    [Eren, sent, glare, towards, Mikasa, nodded, s...\n",
       "2    [posted, new, photo, Facebook, httpfbme2Be7LiyuJ]\n",
       "3    [jan, Idiot, Chelsea, Handler, Diagnoses, Trum...\n",
       "4    [Pedophile, Anthony, Weiner, TERRIFIED, Gettin...\n",
       "Name: Tweet, dtype: object"
      ]
     },
     "execution_count": 23,
     "metadata": {},
     "output_type": "execute_result"
    }
   ],
   "source": [
    "df['Tweet'].head().apply(processtweet)"
   ]
  },
  {
   "cell_type": "code",
   "execution_count": 25,
   "metadata": {},
   "outputs": [],
   "source": [
    "from sklearn.feature_extraction.text import CountVectorizer\n",
    "text = CountVectorizer(analyzer=processtweet).fit_transform(df['Tweet'])"
   ]
  },
  {
   "cell_type": "code",
   "execution_count": 26,
   "metadata": {},
   "outputs": [],
   "source": [
    "from sklearn.model_selection import train_test_split\n",
    "x_train, x_test, y_train, y_test = train_test_split(text, df['Label'].values, test_size = 0.20, random_state = 0)"
   ]
  },
  {
   "cell_type": "code",
   "execution_count": 27,
   "metadata": {},
   "outputs": [
    {
     "data": {
      "text/plain": [
       "(11968, 39141)"
      ]
     },
     "execution_count": 27,
     "metadata": {},
     "output_type": "execute_result"
    }
   ],
   "source": [
    "text.shape"
   ]
  },
  {
   "cell_type": "code",
   "execution_count": 28,
   "metadata": {},
   "outputs": [
    {
     "name": "stdout",
     "output_type": "stream",
     "text": [
      "(9574, 39141)\n",
      "(9574,)\n",
      "(2394, 39141)\n",
      "(2394,)\n"
     ]
    }
   ],
   "source": [
    "print(x_train.shape)\n",
    "print(y_train.shape)\n",
    "print(x_test.shape)\n",
    "print(y_test.shape)"
   ]
  },
  {
   "cell_type": "code",
   "execution_count": 29,
   "metadata": {},
   "outputs": [
    {
     "data": {
      "text/plain": [
       "MultinomialNB(alpha=1.0, class_prior=None, fit_prior=True)"
      ]
     },
     "execution_count": 29,
     "metadata": {},
     "output_type": "execute_result"
    }
   ],
   "source": [
    "from sklearn.naive_bayes import MultinomialNB\n",
    "classifier = MultinomialNB()\n",
    "classifier.fit(x_train, y_train)"
   ]
  },
  {
   "cell_type": "code",
   "execution_count": 30,
   "metadata": {},
   "outputs": [
    {
     "name": "stdout",
     "output_type": "stream",
     "text": [
      "[0 0 0 ... 0 1 0]\n",
      "[0 0 0 ... 0 1 0]\n"
     ]
    }
   ],
   "source": [
    "#Print the predictions\n",
    "print(classifier.predict(x_train))\n",
    "\n",
    "#Print the actual values\n",
    "print(y_train)"
   ]
  },
  {
   "cell_type": "code",
   "execution_count": 29,
   "metadata": {},
   "outputs": [
    {
     "name": "stdout",
     "output_type": "stream",
     "text": [
      "Requirement already satisfied: pandas_ml in c:\\users\\asham\\anaconda3\\lib\\site-packages (0.6.1)\n",
      "Requirement already satisfied: pandas>=0.19.0 in c:\\users\\asham\\anaconda3\\lib\\site-packages (from pandas_ml) (0.24.2)\n",
      "Requirement already satisfied: enum34 in c:\\users\\asham\\anaconda3\\lib\\site-packages (from pandas_ml) (1.1.6)\n",
      "Requirement already satisfied: pytz>=2011k in c:\\users\\asham\\anaconda3\\lib\\site-packages (from pandas>=0.19.0->pandas_ml) (2019.1)\n",
      "Requirement already satisfied: numpy>=1.12.0 in c:\\users\\asham\\anaconda3\\lib\\site-packages (from pandas>=0.19.0->pandas_ml) (1.16.4)\n",
      "Requirement already satisfied: python-dateutil>=2.5.0 in c:\\users\\asham\\anaconda3\\lib\\site-packages (from pandas>=0.19.0->pandas_ml) (2.8.0)\n",
      "Requirement already satisfied: six>=1.5 in c:\\users\\asham\\anaconda3\\lib\\site-packages (from python-dateutil>=2.5.0->pandas>=0.19.0->pandas_ml) (1.12.0)\n",
      "Note: you may need to restart the kernel to use updated packages.\n"
     ]
    }
   ],
   "source": [
    "pip install pandas_ml"
   ]
  },
  {
   "cell_type": "code",
   "execution_count": 31,
   "metadata": {},
   "outputs": [],
   "source": [
    "import pandas_ml"
   ]
  },
  {
   "cell_type": "code",
   "execution_count": 31,
   "metadata": {},
   "outputs": [
    {
     "name": "stdout",
     "output_type": "stream",
     "text": [
      "Collecting matplotlib.pyplot\n",
      "Note: you may need to restart the kernel to use updated packages.\n"
     ]
    },
    {
     "name": "stderr",
     "output_type": "stream",
     "text": [
      "  ERROR: Could not find a version that satisfies the requirement matplotlib.pyplot (from versions: none)\n",
      "ERROR: No matching distribution found for matplotlib.pyplot\n"
     ]
    }
   ],
   "source": [
    "pip install matplotlib.pyplot"
   ]
  },
  {
   "cell_type": "code",
   "execution_count": 32,
   "metadata": {},
   "outputs": [
    {
     "name": "stdout",
     "output_type": "stream",
     "text": [
      "              precision    recall  f1-score   support\n",
      "\n",
      "           0       0.97      0.98      0.98      4932\n",
      "           1       0.98      0.96      0.97      4642\n",
      "\n",
      "    accuracy                           0.97      9574\n",
      "   macro avg       0.97      0.97      0.97      9574\n",
      "weighted avg       0.97      0.97      0.97      9574\n",
      "\n",
      "Confusion Matrix: \n",
      " [[4857   75]\n",
      " [ 173 4469]]\n",
      "\n",
      "Accuracy:  0.9740965113850011\n"
     ]
    }
   ],
   "source": [
    "from sklearn.metrics import classification_report,confusion_matrix, accuracy_score\n",
    "from pandas_ml import ConfusionMatrix\n",
    "prediction = classifier.predict(x_train)\n",
    "matrix = ConfusionMatrix(y_train,prediction)\n",
    "print(classification_report(y_train ,prediction))\n",
    "print('Confusion Matrix: \\n',confusion_matrix(y_train,prediction))\n",
    "print()\n",
    "print('Accuracy: ', accuracy_score(y_train,prediction))"
   ]
  },
  {
   "cell_type": "code",
   "execution_count": 33,
   "metadata": {},
   "outputs": [
    {
     "data": {
      "text/plain": [
       "<matplotlib.axes._subplots.AxesSubplot at 0x25d2c474668>"
      ]
     },
     "execution_count": 33,
     "metadata": {},
     "output_type": "execute_result"
    },
    {
     "data": {
      "image/png": "[encoded data removed]",
      "text/plain": [
       "<Figure size 648x576 with 2 Axes>"
      ]
     },
     "metadata": {
      "needs_background": "light"
     },
     "output_type": "display_data"
    }
   ],
   "source": [
    "import matplotlib.pyplot as plt\n",
    "matrix.plot()"
   ]
  },
  {
   "cell_type": "code",
   "execution_count": 34,
   "metadata": {},
   "outputs": [
    {
     "name": "stdout",
     "output_type": "stream",
     "text": [
      "Predicted value:  [0 0 0 ... 0 1 1]\n",
      "Actual value:  [0 0 0 ... 0 1 1]\n"
     ]
    }
   ],
   "source": [
    "print('Predicted value: ',classifier.predict(x_test))\n",
    "\n",
    "#Print Actual Label\n",
    "print('Actual value: ',y_test)"
   ]
  },
  {
   "cell_type": "code",
   "execution_count": 35,
   "metadata": {},
   "outputs": [
    {
     "name": "stdout",
     "output_type": "stream",
     "text": [
      "              precision    recall  f1-score   support\n",
      "\n",
      "           0       0.84      0.88      0.86      1221\n",
      "           1       0.87      0.83      0.85      1173\n",
      "\n",
      "    accuracy                           0.85      2394\n",
      "   macro avg       0.85      0.85      0.85      2394\n",
      "weighted avg       0.85      0.85      0.85      2394\n",
      "\n",
      "Confusion Matrix: \n",
      " Predicted  False  True  __all__\n",
      "Actual                         \n",
      "False       1074   147     1221\n",
      "True         204   969     1173\n",
      "__all__     1278  1116     2394\n",
      "\n",
      "Accuracy:  0.8533834586466166\n"
     ]
    }
   ],
   "source": [
    "from sklearn.metrics import classification_report,confusion_matrix, accuracy_score\n",
    "prediction1 = classifier.predict(x_test)\n",
    "matrix1 = ConfusionMatrix(y_test,prediction1)\n",
    "print(classification_report(y_test ,prediction1 ))\n",
    "\n",
    "print('Confusion Matrix: \\n', ConfusionMatrix(y_test,prediction1))\n",
    "print()\n",
    "print('Accuracy: ', accuracy_score(y_test,prediction1))"
   ]
  },
  {
   "cell_type": "code",
   "execution_count": 36,
   "metadata": {},
   "outputs": [
    {
     "data": {
      "text/plain": [
       "<matplotlib.axes._subplots.AxesSubplot at 0x25d2d54b588>"
      ]
     },
     "execution_count": 36,
     "metadata": {},
     "output_type": "execute_result"
    },
    {
     "data": {
      "image/png": "[encoded data removed]",
      "text/plain": [
       "<Figure size 648x576 with 2 Axes>"
      ]
     },
     "metadata": {
      "needs_background": "light"
     },
     "output_type": "display_data"
    }
   ],
   "source": [
    "matrix.plot()"
   ]
  },
  {
   "cell_type": "code",
   "execution_count": 43,
   "metadata": {},
   "outputs": [],
   "source": [
    "from sklearn import svm, datasets\n",
    "classifier1 = svm.SVC(kernel='linear', C=0.01).fit(x_train, y_train)"
   ]
  },
  {
   "cell_type": "code",
   "execution_count": 44,
   "metadata": {},
   "outputs": [
    {
     "name": "stdout",
     "output_type": "stream",
     "text": [
      "[0 0 0 ... 0 1 0]\n",
      "[0 0 0 ... 0 1 0]\n"
     ]
    }
   ],
   "source": [
    "#Print the predictions\n",
    "print(classifier1.predict(x_train))\n",
    "\n",
    "#Print the actual values\n",
    "print(y_train)"
   ]
  },
  {
   "cell_type": "code",
   "execution_count": 45,
   "metadata": {},
   "outputs": [
    {
     "name": "stdout",
     "output_type": "stream",
     "text": [
      "              precision    recall  f1-score   support\n",
      "\n",
      "           0       0.80      0.96      0.87      4932\n",
      "           1       0.94      0.74      0.83      4642\n",
      "\n",
      "    accuracy                           0.85      9574\n",
      "   macro avg       0.87      0.85      0.85      9574\n",
      "weighted avg       0.87      0.85      0.85      9574\n",
      "\n",
      "Confusion Matrix: \n",
      " Predicted  False  True  __all__\n",
      "Actual                         \n",
      "False       4730   202     4932\n",
      "True        1205  3437     4642\n",
      "__all__     5935  3639     9574\n",
      "\n",
      "Accuracy:  0.8530394819302277\n"
     ]
    }
   ],
   "source": [
    "from sklearn.metrics import classification_report,confusion_matrix, accuracy_score\n",
    "prediction2 = classifier1.predict(x_train)\n",
    "cm= ConfusionMatrix(y_train,prediction2)\n",
    "print(classification_report(y_train ,prediction2))\n",
    "print('Confusion Matrix: \\n',ConfusionMatrix(y_train,prediction2))\n",
    "print()\n",
    "print('Accuracy: ', accuracy_score(y_train,prediction2))"
   ]
  },
  {
   "cell_type": "code",
   "execution_count": 40,
   "metadata": {},
   "outputs": [
    {
     "data": {
      "text/plain": [
       "<matplotlib.axes._subplots.AxesSubplot at 0x25d2d5aea58>"
      ]
     },
     "execution_count": 40,
     "metadata": {},
     "output_type": "execute_result"
    },
    {
     "data": {
      "image/png": "[encoded data removed]",
      "text/plain": [
       "<Figure size 648x576 with 2 Axes>"
      ]
     },
     "metadata": {
      "needs_background": "light"
     },
     "output_type": "display_data"
    }
   ],
   "source": [
    "cm.plot()"
   ]
  },
  {
   "cell_type": "code",
   "execution_count": 41,
   "metadata": {},
   "outputs": [
    {
     "name": "stdout",
     "output_type": "stream",
     "text": [
      "Predicted value:  [0 0 0 ... 0 1 1]\n",
      "Actual value:  [0 0 0 ... 0 1 1]\n"
     ]
    }
   ],
   "source": [
    "print('Predicted value: ',classifier1.predict(x_test))\n",
    "\n",
    "#Print Actual Label\n",
    "print('Actual value: ',y_test)"
   ]
  },
  {
   "cell_type": "code",
   "execution_count": 42,
   "metadata": {},
   "outputs": [
    {
     "name": "stdout",
     "output_type": "stream",
     "text": [
      "              precision    recall  f1-score   support\n",
      "\n",
      "           0       0.79      0.89      0.83      1221\n",
      "           1       0.87      0.75      0.80      1173\n",
      "\n",
      "    accuracy                           0.82      2394\n",
      "   macro avg       0.83      0.82      0.82      2394\n",
      "weighted avg       0.83      0.82      0.82      2394\n",
      "\n",
      "Confusion Matrix: \n",
      " Predicted  False  True  __all__\n",
      "Actual                         \n",
      "False       1086   135     1221\n",
      "True         295   878     1173\n",
      "__all__     1381  1013     2394\n",
      "\n",
      "Accuracy:  0.8203842940685045\n"
     ]
    }
   ],
   "source": [
    "from sklearn.metrics import classification_report,confusion_matrix, accuracy_score\n",
    "prediction3 = classifier1.predict(x_test)\n",
    "cm1= ConfusionMatrix(y_test,prediction3)\n",
    "print(classification_report(y_test ,prediction3 ))\n",
    "\n",
    "print('Confusion Matrix: \\n', ConfusionMatrix(y_test,prediction3))\n",
    "print()\n",
    "print('Accuracy: ', accuracy_score(y_test,prediction3))"
   ]
  },
  {
   "cell_type": "code",
   "execution_count": 48,
   "metadata": {},
   "outputs": [
    {
     "data": {
      "text/plain": [
       "<matplotlib.axes._subplots.AxesSubplot at 0x1e4809eb7f0>"
      ]
     },
     "execution_count": 48,
     "metadata": {},
     "output_type": "execute_result"
    },
    {
     "data": {
      "image/png": "[encoded data removed]",
      "text/plain": [
       "<Figure size 648x576 with 2 Axes>"
      ]
     },
     "metadata": {
      "needs_background": "light"
     },
     "output_type": "display_data"
    }
   ],
   "source": [
    "cm1.plot()"
   ]
  },
  {
   "cell_type": "code",
   "execution_count": 78,
   "metadata": {},
   "outputs": [
    {
     "data": {
      "text/plain": [
       "KNeighborsClassifier(algorithm='auto', leaf_size=30, metric='minkowski',\n",
       "                     metric_params=None, n_jobs=None, n_neighbors=5, p=2,\n",
       "                     weights='uniform')"
      ]
     },
     "execution_count": 78,
     "metadata": {},
     "output_type": "execute_result"
    }
   ],
   "source": [
    "from sklearn.neighbors import KNeighborsClassifier\n",
    "classifier3 = KNeighborsClassifier(n_neighbors=5)\n",
    "classifier3.fit(x_train, y_train)"
   ]
  },
  {
   "cell_type": "code",
   "execution_count": 79,
   "metadata": {},
   "outputs": [
    {
     "name": "stdout",
     "output_type": "stream",
     "text": [
      "[0 0 0 ... 0 0 0]\n",
      "[0 0 0 ... 0 1 0]\n"
     ]
    }
   ],
   "source": [
    "#Print the predictions\n",
    "print(classifier3.predict(x_train))\n",
    "\n",
    "#Print the actual values\n",
    "print(y_train)"
   ]
  },
  {
   "cell_type": "code",
   "execution_count": 80,
   "metadata": {},
   "outputs": [
    {
     "name": "stdout",
     "output_type": "stream",
     "text": [
      "              precision    recall  f1-score   support\n",
      "\n",
      "           0       0.52      1.00      0.68      4932\n",
      "           1       0.99      0.02      0.03      4642\n",
      "\n",
      "    accuracy                           0.52      9574\n",
      "   macro avg       0.75      0.51      0.36      9574\n",
      "weighted avg       0.75      0.52      0.37      9574\n",
      "\n",
      "Confusion Matrix: \n",
      " Predicted  False  True  __all__\n",
      "Actual                         \n",
      "False       4931     1     4932\n",
      "True        4571    71     4642\n",
      "__all__     9502    72     9574\n",
      "\n",
      "Accuracy:  0.5224566534363903\n"
     ]
    }
   ],
   "source": [
    "from sklearn.metrics import classification_report,confusion_matrix, accuracy_score\n",
    "prediction3 = classifier3.predict(x_train)\n",
    "km= ConfusionMatrix(y_train,prediction3)\n",
    "print(classification_report(y_train ,prediction3))\n",
    "print('Confusion Matrix: \\n',ConfusionMatrix(y_train,prediction3))\n",
    "print()\n",
    "print('Accuracy: ', accuracy_score(y_train,prediction3))"
   ]
  },
  {
   "cell_type": "code",
   "execution_count": 60,
   "metadata": {},
   "outputs": [
    {
     "name": "stdout",
     "output_type": "stream",
     "text": [
      "Predicted value:  [0 0 0 ... 0 0 0]\n",
      "Actual value:  [0 0 0 ... 0 1 1]\n"
     ]
    }
   ],
   "source": [
    "print('Predicted value: ',classifier3.predict(x_test))\n",
    "\n",
    "#Print Actual Label\n",
    "print('Actual value: ',y_test)"
   ]
  },
  {
   "cell_type": "code",
   "execution_count": 62,
   "metadata": {},
   "outputs": [
    {
     "name": "stdout",
     "output_type": "stream",
     "text": [
      "              precision    recall  f1-score   support\n",
      "\n",
      "           0       0.51      1.00      0.68      1221\n",
      "           1       1.00      0.00      0.01      1173\n",
      "\n",
      "    accuracy                           0.51      2394\n",
      "   macro avg       0.76      0.50      0.34      2394\n",
      "weighted avg       0.75      0.51      0.35      2394\n",
      "\n",
      "Confusion Matrix: \n",
      " Predicted  False  True  __all__\n",
      "Actual                         \n",
      "False       1221     0     1221\n",
      "True        1168     5     1173\n",
      "__all__     2389     5     2394\n",
      "\n",
      "Accuracy:  0.5121136173767753\n"
     ]
    }
   ],
   "source": [
    "from sklearn.metrics import classification_report,confusion_matrix, accuracy_score\n",
    "prediction3 = classifier3.predict(x_test)\n",
    "cm1= ConfusionMatrix(y_test,prediction3)\n",
    "print(classification_report(y_test ,prediction3 ))\n",
    "\n",
    "print('Confusion Matrix: \\n', ConfusionMatrix(y_test,prediction3))\n",
    "print()\n",
    "print('Accuracy: ', accuracy_score(y_test,prediction3))"
   ]
  },
  {
   "cell_type": "code",
   "execution_count": 57,
   "metadata": {},
   "outputs": [
    {
     "data": {
      "text/plain": [
       "BernoulliNB(alpha=1.0, binarize=0.0, class_prior=None, fit_prior=True)"
      ]
     },
     "execution_count": 57,
     "metadata": {},
     "output_type": "execute_result"
    }
   ],
   "source": [
    "from sklearn.naive_bayes import BernoulliNB\n",
    "classifier2 = BernoulliNB()\n",
    "classifier2.fit(x_train, y_train)"
   ]
  },
  {
   "cell_type": "code",
   "execution_count": 59,
   "metadata": {},
   "outputs": [
    {
     "name": "stdout",
     "output_type": "stream",
     "text": [
      "[0 0 0 ... 0 1 0]\n",
      "[0 0 0 ... 0 1 0]\n"
     ]
    }
   ],
   "source": [
    "#Print the predictions\n",
    "print(classifier2.predict(x_train))\n",
    "\n",
    "#Print the actual values\n",
    "print(y_train)"
   ]
  },
  {
   "cell_type": "code",
   "execution_count": 62,
   "metadata": {},
   "outputs": [
    {
     "name": "stdout",
     "output_type": "stream",
     "text": [
      "              precision    recall  f1-score   support\n",
      "\n",
      "           0       0.93      0.99      0.96      4932\n",
      "           1       0.99      0.92      0.95      4642\n",
      "\n",
      "    accuracy                           0.96      9574\n",
      "   macro avg       0.96      0.96      0.96      9574\n",
      "weighted avg       0.96      0.96      0.96      9574\n",
      "\n",
      "Confusion Matrix: \n",
      " Predicted  False  True  __all__\n",
      "Actual                         \n",
      "False       4902    30     4932\n",
      "True         375  4267     4642\n",
      "__all__     5277  4297     9574\n",
      "\n",
      "Accuracy:  0.9576979318988929\n"
     ]
    }
   ],
   "source": [
    "from sklearn.metrics import classification_report,confusion_matrix, accuracy_score\n",
    "prediction = classifier2.predict(x_train)\n",
    "mat = ConfusionMatrix(y_train,prediction)\n",
    "print(classification_report(y_train ,prediction))\n",
    "print('Confusion Matrix: \\n',ConfusionMatrix(y_train,prediction))\n",
    "print()\n",
    "print('Accuracy: ', accuracy_score(y_train,prediction))"
   ]
  },
  {
   "cell_type": "code",
   "execution_count": 63,
   "metadata": {},
   "outputs": [
    {
     "data": {
      "text/plain": [
       "<matplotlib.axes._subplots.AxesSubplot at 0x2ad9d0fa9b0>"
      ]
     },
     "execution_count": 63,
     "metadata": {},
     "output_type": "execute_result"
    },
    {
     "data": {
      "image/png": "[encoded data removed]",
      "text/plain": [
       "<Figure size 648x576 with 2 Axes>"
      ]
     },
     "metadata": {
      "needs_background": "light"
     },
     "output_type": "display_data"
    }
   ],
   "source": [
    "mat.plot()"
   ]
  },
  {
   "cell_type": "code",
   "execution_count": 64,
   "metadata": {},
   "outputs": [
    {
     "name": "stdout",
     "output_type": "stream",
     "text": [
      "Predicted value:  [0 0 0 ... 0 1 1]\n",
      "Actual value:  [0 0 0 ... 0 1 1]\n"
     ]
    }
   ],
   "source": [
    "print('Predicted value: ',classifier2.predict(x_test))\n",
    "\n",
    "#Print Actual Label\n",
    "print('Actual value: ',y_test)"
   ]
  },
  {
   "cell_type": "code",
   "execution_count": 65,
   "metadata": {},
   "outputs": [
    {
     "name": "stdout",
     "output_type": "stream",
     "text": [
      "              precision    recall  f1-score   support\n",
      "\n",
      "           0       0.79      0.94      0.86      1221\n",
      "           1       0.92      0.73      0.82      1173\n",
      "\n",
      "    accuracy                           0.84      2394\n",
      "   macro avg       0.85      0.84      0.84      2394\n",
      "weighted avg       0.85      0.84      0.84      2394\n",
      "\n",
      "Confusion Matrix: \n",
      " Predicted  False  True  __all__\n",
      "Actual                         \n",
      "False       1149    72     1221\n",
      "True         313   860     1173\n",
      "__all__     1462   932     2394\n",
      "\n",
      "Accuracy:  0.8391812865497076\n"
     ]
    }
   ],
   "source": [
    "from sklearn.metrics import classification_report,confusion_matrix, accuracy_score\n",
    "prediction = classifier2.predict(x_test)\n",
    "mat1 = ConfusionMatrix(y_test,prediction)\n",
    "print(classification_report(y_test ,prediction ))\n",
    "\n",
    "print('Confusion Matrix: \\n', ConfusionMatrix(y_test,prediction))\n",
    "print()\n",
    "print('Accuracy: ', accuracy_score(y_test,prediction))"
   ]
  },
  {
   "cell_type": "code",
   "execution_count": 66,
   "metadata": {},
   "outputs": [
    {
     "data": {
      "text/plain": [
       "<matplotlib.axes._subplots.AxesSubplot at 0x2ad9d151668>"
      ]
     },
     "execution_count": 66,
     "metadata": {},
     "output_type": "execute_result"
    },
    {
     "data": {
      "image/png": "[encoded data removed]",
      "text/plain": [
       "<Figure size 648x576 with 2 Axes>"
      ]
     },
     "metadata": {
      "needs_background": "light"
     },
     "output_type": "display_data"
    }
   ],
   "source": [
    "mat1.plot()"
   ]
  },
  {
   "cell_type": "code",
   "execution_count": 82,
   "metadata": {},
   "outputs": [],
   "source": [
    "from mlxtend.plotting import plot_confusion_matrix\n",
    "import matplotlib.pyplot as plt\n",
    "import numpy as np"
   ]
  },
  {
   "cell_type": "code",
   "execution_count": 73,
   "metadata": {},
   "outputs": [
    {
     "data": {
      "image/png": "[encoded data removed]",
      "text/plain": [
       "<Figure size 432x288 with 2 Axes>"
      ]
     },
     "metadata": {
      "needs_background": "light"
     },
     "output_type": "display_data"
    }
   ],
   "source": [
    "binary = np.array([[4857, 75],\n",
    "                   [173 , 4469]])\n",
    "\n",
    "fig, ax = plot_confusion_matrix(conf_mat=binary, colorbar=True)\n",
    "plt.show()"
   ]
  },
  {
   "cell_type": "code",
   "execution_count": 75,
   "metadata": {},
   "outputs": [
    {
     "data": {
      "image/png": "[encoded data removed]",
      "text/plain": [
       "<Figure size 432x288 with 2 Axes>"
      ]
     },
     "metadata": {
      "needs_background": "light"
     },
     "output_type": "display_data"
    }
   ],
   "source": [
    "binary = np.array([[1074, 147],\n",
    "                   [204, 969]])\n",
    "\n",
    "fig, ax = plot_confusion_matrix(conf_mat=binary, colorbar=True)\n",
    "plt.show()"
   ]
  },
  {
   "cell_type": "code",
   "execution_count": 76,
   "metadata": {},
   "outputs": [
    {
     "data": {
      "image/png": "[encoded data removed]",
      "text/plain": [
       "<Figure size 432x288 with 2 Axes>"
      ]
     },
     "metadata": {
      "needs_background": "light"
     },
     "output_type": "display_data"
    }
   ],
   "source": [
    "binary = np.array([[4730, 202],\n",
    "                   [1205, 3437]])\n",
    "\n",
    "fig, ax = plot_confusion_matrix(conf_mat=binary, colorbar=True)\n",
    "plt.show()"
   ]
  },
  {
   "cell_type": "code",
   "execution_count": 77,
   "metadata": {},
   "outputs": [
    {
     "data": {
      "image/png": "[encoded data removed]",
      "text/plain": [
       "<Figure size 432x288 with 2 Axes>"
      ]
     },
     "metadata": {
      "needs_background": "light"
     },
     "output_type": "display_data"
    }
   ],
   "source": [
    "binary = np.array([[1134, 87],\n",
    "                   [388, 785]])\n",
    "\n",
    "fig, ax = plot_confusion_matrix(conf_mat=binary, colorbar=True)\n",
    "plt.show()"
   ]
  },
  {
   "cell_type": "code",
   "execution_count": 78,
   "metadata": {},
   "outputs": [
    {
     "data": {
      "image/png": "[encoded data removed]",
      "text/plain": [
       "<Figure size 432x288 with 2 Axes>"
      ]
     },
     "metadata": {
      "needs_background": "light"
     },
     "output_type": "display_data"
    }
   ],
   "source": [
    "binary = np.array([[4902, 30],\n",
    "                   [375, 4267]])\n",
    "\n",
    "fig, ax = plot_confusion_matrix(conf_mat=binary, colorbar=True)\n",
    "plt.show()"
   ]
  },
  {
   "cell_type": "code",
   "execution_count": 79,
   "metadata": {},
   "outputs": [
    {
     "data": {
      "image/png": "[encoded data removed]",
      "text/plain": [
       "<Figure size 432x288 with 2 Axes>"
      ]
     },
     "metadata": {
      "needs_background": "light"
     },
     "output_type": "display_data"
    }
   ],
   "source": [
    "binary = np.array([[1149, 72],\n",
    "                   [313, 860]])\n",
    "\n",
    "fig, ax = plot_confusion_matrix(conf_mat=binary, colorbar=True)\n",
    "plt.show()"
   ]
  },
  {
   "cell_type": "code",
   "execution_count": 83,
   "metadata": {},
   "outputs": [
    {
     "data": {
      "image/png": "[encoded data removed]",
      "text/plain": [
       "<Figure size 432x288 with 2 Axes>"
      ]
     },
     "metadata": {
      "needs_background": "light"
     },
     "output_type": "display_data"
    }
   ],
   "source": [
    "binary = np.array([[4931, 1],\n",
    "                   [4571, 71]])\n",
    "\n",
    "fig, ax = plot_confusion_matrix(conf_mat=binary, colorbar=True)\n",
    "plt.show()"
   ]
  },
  {
   "cell_type": "code",
   "execution_count": 84,
   "metadata": {},
   "outputs": [
    {
     "data": {
      "image/png": "[encoded data removed]",
      "text/plain": [
       "<Figure size 432x288 with 2 Axes>"
      ]
     },
     "metadata": {
      "needs_background": "light"
     },
     "output_type": "display_data"
    }
   ],
   "source": [
    "binary = np.array([[1221, 0],\n",
    "                   [1168, 5]])\n",
    "\n",
    "fig, ax = plot_confusion_matrix(conf_mat=binary, colorbar=True)\n",
    "plt.show()"
   ]
  },
  {
   "cell_type": "code",
   "execution_count": null,
   "metadata": {},
   "outputs": [],
   "source": []
  }
 ],
 "metadata": {
  "kernelspec": {
   "display_name": "Python 3",
   "language": "python",
   "name": "python3"
  },
  "language_info": {
   "codemirror_mode": {
    "name": "ipython",
    "version": 3
   },
   "file_extension": ".py",
   "mimetype": "text/x-python",
   "name": "python",
   "nbconvert_exporter": "python",
   "pygments_lexer": "ipython3",
   "version": "3.7.3"
  }
 },
 "nbformat": 4,
 "nbformat_minor": 2
}
